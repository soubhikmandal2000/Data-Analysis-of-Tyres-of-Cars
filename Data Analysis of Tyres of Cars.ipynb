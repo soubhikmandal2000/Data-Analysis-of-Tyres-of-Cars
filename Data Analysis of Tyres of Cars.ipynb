{
 "cells": [
  {
   "cell_type": "markdown",
   "metadata": {},
   "source": [
    "Exploratory Data Analysis using Pandas, NumPy, Matplotlib & Seaborn libraries for Car tyres available in the Indian market with 11 attributes and 4350 samples and answered the following questions :"
   ]
  },
  {
   "cell_type": "markdown",
   "metadata": {},
   "source": [
    "1. Which Tyres has the most demand for tube or tubeless?\n",
    "2. Which are the major brands in the market?\n",
    "3. Which are the top 10 brands for most tyre models?\n",
    "4. Which Maruti model has the highest number of tyre models/serial no. and from which tyre brand?\n",
    "5. Does expensive tyres have higher ratings?\n",
    "6. What is the Average Selling Price of tyres by its Brand?"
   ]
  },
  {
   "cell_type": "markdown",
   "metadata": {},
   "source": [
    "**Importing Libraries and Datasets of Car tyres**"
   ]
  },
  {
   "cell_type": "code",
   "execution_count": 1,
   "metadata": {
    "execution": {
     "iopub.execute_input": "2021-12-12T19:44:04.700528Z",
     "iopub.status.busy": "2021-12-12T19:44:04.699912Z",
     "iopub.status.idle": "2021-12-12T19:44:05.759166Z",
     "shell.execute_reply": "2021-12-12T19:44:05.758206Z",
     "shell.execute_reply.started": "2021-12-12T19:44:04.700437Z"
    }
   },
   "outputs": [
    {
     "data": {
      "text/html": [
       "<div>\n",
       "<style scoped>\n",
       "    .dataframe tbody tr th:only-of-type {\n",
       "        vertical-align: middle;\n",
       "    }\n",
       "\n",
       "    .dataframe tbody tr th {\n",
       "        vertical-align: top;\n",
       "    }\n",
       "\n",
       "    .dataframe thead th {\n",
       "        text-align: right;\n",
       "    }\n",
       "</style>\n",
       "<table border=\"1\" class=\"dataframe\">\n",
       "  <thead>\n",
       "    <tr style=\"text-align: right;\">\n",
       "      <th></th>\n",
       "      <th>Brand</th>\n",
       "      <th>Model</th>\n",
       "      <th>Submodel</th>\n",
       "      <th>Tyre Brand</th>\n",
       "      <th>Serial No.</th>\n",
       "      <th>Type</th>\n",
       "      <th>Load Index</th>\n",
       "      <th>Size</th>\n",
       "      <th>Selling Price</th>\n",
       "      <th>Original Price</th>\n",
       "      <th>Rating</th>\n",
       "    </tr>\n",
       "  </thead>\n",
       "  <tbody>\n",
       "    <tr>\n",
       "      <th>0</th>\n",
       "      <td>Maruti</td>\n",
       "      <td>Swift Dzire</td>\n",
       "      <td>LDI (Diesel)</td>\n",
       "      <td>JKTyre</td>\n",
       "      <td>Taximaxx</td>\n",
       "      <td>Tubeless</td>\n",
       "      <td>85</td>\n",
       "      <td>165/80 R 14</td>\n",
       "      <td>3255</td>\n",
       "      <td>3255</td>\n",
       "      <td>5.0</td>\n",
       "    </tr>\n",
       "    <tr>\n",
       "      <th>1</th>\n",
       "      <td>Maruti</td>\n",
       "      <td>Swift Dzire</td>\n",
       "      <td>LDI (Diesel)</td>\n",
       "      <td>CEAT</td>\n",
       "      <td>Milage X3</td>\n",
       "      <td>Tubeless</td>\n",
       "      <td>85</td>\n",
       "      <td>165/80 R 14</td>\n",
       "      <td>3406</td>\n",
       "      <td>3406</td>\n",
       "      <td>4.0</td>\n",
       "    </tr>\n",
       "    <tr>\n",
       "      <th>2</th>\n",
       "      <td>Maruti</td>\n",
       "      <td>Swift Dzire</td>\n",
       "      <td>LDI (Diesel)</td>\n",
       "      <td>Apollo</td>\n",
       "      <td>Amazer 4G Life</td>\n",
       "      <td>Tubeless</td>\n",
       "      <td>85</td>\n",
       "      <td>165/80 R 14</td>\n",
       "      <td>3490</td>\n",
       "      <td>4319</td>\n",
       "      <td>4.5</td>\n",
       "    </tr>\n",
       "    <tr>\n",
       "      <th>3</th>\n",
       "      <td>Maruti</td>\n",
       "      <td>Swift Dzire</td>\n",
       "      <td>LDI (Diesel)</td>\n",
       "      <td>Continental</td>\n",
       "      <td>Comfort Contact CC6</td>\n",
       "      <td>Tubeless</td>\n",
       "      <td>85</td>\n",
       "      <td>165/80 R 14</td>\n",
       "      <td>4484</td>\n",
       "      <td>4244</td>\n",
       "      <td>NaN</td>\n",
       "    </tr>\n",
       "    <tr>\n",
       "      <th>4</th>\n",
       "      <td>Maruti</td>\n",
       "      <td>Swift Dzire</td>\n",
       "      <td>LDI (Diesel)</td>\n",
       "      <td>GoodYear</td>\n",
       "      <td>Assurance Duraplus 2</td>\n",
       "      <td>Tubeless</td>\n",
       "      <td>85</td>\n",
       "      <td>165/80 R 14</td>\n",
       "      <td>3025</td>\n",
       "      <td>3025</td>\n",
       "      <td>4.2</td>\n",
       "    </tr>\n",
       "    <tr>\n",
       "      <th>...</th>\n",
       "      <td>...</td>\n",
       "      <td>...</td>\n",
       "      <td>...</td>\n",
       "      <td>...</td>\n",
       "      <td>...</td>\n",
       "      <td>...</td>\n",
       "      <td>...</td>\n",
       "      <td>...</td>\n",
       "      <td>...</td>\n",
       "      <td>...</td>\n",
       "      <td>...</td>\n",
       "    </tr>\n",
       "    <tr>\n",
       "      <th>4345</th>\n",
       "      <td>Maruti</td>\n",
       "      <td>Swift Deca</td>\n",
       "      <td>VXI</td>\n",
       "      <td>MRF</td>\n",
       "      <td>ZLX</td>\n",
       "      <td>Tubeless</td>\n",
       "      <td>85</td>\n",
       "      <td>165/80 R 14</td>\n",
       "      <td>4038</td>\n",
       "      <td>4038</td>\n",
       "      <td>4.0</td>\n",
       "    </tr>\n",
       "    <tr>\n",
       "      <th>4346</th>\n",
       "      <td>Maruti</td>\n",
       "      <td>Swift Deca</td>\n",
       "      <td>VDI</td>\n",
       "      <td>UltraMile</td>\n",
       "      <td>UM 551</td>\n",
       "      <td>Tubeless</td>\n",
       "      <td>85</td>\n",
       "      <td>165/80 R 14</td>\n",
       "      <td>4045</td>\n",
       "      <td>4045</td>\n",
       "      <td>3.0</td>\n",
       "    </tr>\n",
       "    <tr>\n",
       "      <th>4347</th>\n",
       "      <td>Maruti</td>\n",
       "      <td>Swift Deca</td>\n",
       "      <td>VXI</td>\n",
       "      <td>UltraMile</td>\n",
       "      <td>UM 551</td>\n",
       "      <td>Tubeless</td>\n",
       "      <td>85</td>\n",
       "      <td>165/80 R 14</td>\n",
       "      <td>4045</td>\n",
       "      <td>4045</td>\n",
       "      <td>3.0</td>\n",
       "    </tr>\n",
       "    <tr>\n",
       "      <th>4348</th>\n",
       "      <td>Maruti</td>\n",
       "      <td>Swift Deca</td>\n",
       "      <td>VDI</td>\n",
       "      <td>Yokohama</td>\n",
       "      <td>Earth-1 E400</td>\n",
       "      <td>Tubeless</td>\n",
       "      <td>85</td>\n",
       "      <td>165/80 R 14</td>\n",
       "      <td>3904</td>\n",
       "      <td>3904</td>\n",
       "      <td>3.0</td>\n",
       "    </tr>\n",
       "    <tr>\n",
       "      <th>4349</th>\n",
       "      <td>Maruti</td>\n",
       "      <td>Swift Deca</td>\n",
       "      <td>VXI</td>\n",
       "      <td>Yokohama</td>\n",
       "      <td>Earth-1 E400</td>\n",
       "      <td>Tubeless</td>\n",
       "      <td>85</td>\n",
       "      <td>165/80 R 14</td>\n",
       "      <td>3904</td>\n",
       "      <td>3904</td>\n",
       "      <td>3.0</td>\n",
       "    </tr>\n",
       "  </tbody>\n",
       "</table>\n",
       "<p>4350 rows × 11 columns</p>\n",
       "</div>"
      ],
      "text/plain": [
       "      Brand         Model      Submodel   Tyre Brand            Serial No.  \\\n",
       "0     Maruti  Swift Dzire  LDI (Diesel)       JKTyre              Taximaxx   \n",
       "1     Maruti  Swift Dzire  LDI (Diesel)         CEAT             Milage X3   \n",
       "2     Maruti  Swift Dzire  LDI (Diesel)       Apollo        Amazer 4G Life   \n",
       "3     Maruti  Swift Dzire  LDI (Diesel)  Continental   Comfort Contact CC6   \n",
       "4     Maruti  Swift Dzire  LDI (Diesel)     GoodYear  Assurance Duraplus 2   \n",
       "...      ...          ...           ...          ...                   ...   \n",
       "4345  Maruti   Swift Deca           VXI          MRF                   ZLX   \n",
       "4346  Maruti   Swift Deca           VDI    UltraMile                UM 551   \n",
       "4347  Maruti   Swift Deca           VXI    UltraMile                UM 551   \n",
       "4348  Maruti   Swift Deca           VDI     Yokohama          Earth-1 E400   \n",
       "4349  Maruti   Swift Deca           VXI     Yokohama          Earth-1 E400   \n",
       "\n",
       "          Type  Load Index         Size  Selling Price  Original Price  Rating  \n",
       "0     Tubeless          85  165/80 R 14           3255            3255     5.0  \n",
       "1     Tubeless          85  165/80 R 14           3406            3406     4.0  \n",
       "2     Tubeless          85  165/80 R 14           3490            4319     4.5  \n",
       "3     Tubeless          85  165/80 R 14           4484            4244     NaN  \n",
       "4     Tubeless          85  165/80 R 14           3025            3025     4.2  \n",
       "...        ...         ...          ...            ...             ...     ...  \n",
       "4345  Tubeless          85  165/80 R 14           4038            4038     4.0  \n",
       "4346  Tubeless          85  165/80 R 14           4045            4045     3.0  \n",
       "4347  Tubeless          85  165/80 R 14           4045            4045     3.0  \n",
       "4348  Tubeless          85  165/80 R 14           3904            3904     3.0  \n",
       "4349  Tubeless          85  165/80 R 14           3904            3904     3.0  \n",
       "\n",
       "[4350 rows x 11 columns]"
      ]
     },
     "execution_count": 1,
     "metadata": {},
     "output_type": "execute_result"
    }
   ],
   "source": [
    "import pandas as pd\n",
    "import numpy as np\n",
    "import matplotlib.pyplot as plt\n",
    "import seaborn as sns\n",
    "\n",
    "df = pd.read_csv('C:/Users/SOUBHIK MANDAL/Desktop/Data Analysis of Tyres of Cars/Car_Tyres_Dataset.csv',thousands=',')\n",
    "df"
   ]
  },
  {
   "cell_type": "code",
   "execution_count": 2,
   "metadata": {
    "execution": {
     "iopub.execute_input": "2021-12-12T19:44:05.839950Z",
     "iopub.status.busy": "2021-12-12T19:44:05.839251Z",
     "iopub.status.idle": "2021-12-12T19:44:05.880058Z",
     "shell.execute_reply": "2021-12-12T19:44:05.879190Z",
     "shell.execute_reply.started": "2021-12-12T19:44:05.839896Z"
    }
   },
   "outputs": [
    {
     "data": {
      "text/html": [
       "<div>\n",
       "<style scoped>\n",
       "    .dataframe tbody tr th:only-of-type {\n",
       "        vertical-align: middle;\n",
       "    }\n",
       "\n",
       "    .dataframe tbody tr th {\n",
       "        vertical-align: top;\n",
       "    }\n",
       "\n",
       "    .dataframe thead th {\n",
       "        text-align: right;\n",
       "    }\n",
       "</style>\n",
       "<table border=\"1\" class=\"dataframe\">\n",
       "  <thead>\n",
       "    <tr style=\"text-align: right;\">\n",
       "      <th></th>\n",
       "      <th>count</th>\n",
       "      <th>mean</th>\n",
       "      <th>std</th>\n",
       "      <th>min</th>\n",
       "      <th>25%</th>\n",
       "      <th>50%</th>\n",
       "      <th>75%</th>\n",
       "      <th>max</th>\n",
       "    </tr>\n",
       "  </thead>\n",
       "  <tbody>\n",
       "    <tr>\n",
       "      <th>Load Index</th>\n",
       "      <td>4350.0</td>\n",
       "      <td>84.101609</td>\n",
       "      <td>6.716769</td>\n",
       "      <td>69.0</td>\n",
       "      <td>79.00</td>\n",
       "      <td>86.0</td>\n",
       "      <td>88.0</td>\n",
       "      <td>106.0</td>\n",
       "    </tr>\n",
       "    <tr>\n",
       "      <th>Selling Price</th>\n",
       "      <td>4350.0</td>\n",
       "      <td>4724.982989</td>\n",
       "      <td>1848.303937</td>\n",
       "      <td>2248.0</td>\n",
       "      <td>3400.00</td>\n",
       "      <td>4300.0</td>\n",
       "      <td>5594.0</td>\n",
       "      <td>20257.0</td>\n",
       "    </tr>\n",
       "    <tr>\n",
       "      <th>Original Price</th>\n",
       "      <td>4350.0</td>\n",
       "      <td>4762.234943</td>\n",
       "      <td>1869.111942</td>\n",
       "      <td>2248.0</td>\n",
       "      <td>3401.25</td>\n",
       "      <td>4319.0</td>\n",
       "      <td>5594.0</td>\n",
       "      <td>20257.0</td>\n",
       "    </tr>\n",
       "    <tr>\n",
       "      <th>Rating</th>\n",
       "      <td>2248.0</td>\n",
       "      <td>4.297598</td>\n",
       "      <td>0.698433</td>\n",
       "      <td>1.9</td>\n",
       "      <td>4.00</td>\n",
       "      <td>4.3</td>\n",
       "      <td>5.0</td>\n",
       "      <td>5.0</td>\n",
       "    </tr>\n",
       "  </tbody>\n",
       "</table>\n",
       "</div>"
      ],
      "text/plain": [
       "                 count         mean          std     min      25%     50%  \\\n",
       "Load Index      4350.0    84.101609     6.716769    69.0    79.00    86.0   \n",
       "Selling Price   4350.0  4724.982989  1848.303937  2248.0  3400.00  4300.0   \n",
       "Original Price  4350.0  4762.234943  1869.111942  2248.0  3401.25  4319.0   \n",
       "Rating          2248.0     4.297598     0.698433     1.9     4.00     4.3   \n",
       "\n",
       "                   75%      max  \n",
       "Load Index        88.0    106.0  \n",
       "Selling Price   5594.0  20257.0  \n",
       "Original Price  5594.0  20257.0  \n",
       "Rating             5.0      5.0  "
      ]
     },
     "execution_count": 2,
     "metadata": {},
     "output_type": "execute_result"
    }
   ],
   "source": [
    "df.describe().T"
   ]
  },
  {
   "cell_type": "code",
   "execution_count": 3,
   "metadata": {
    "execution": {
     "iopub.execute_input": "2021-12-12T19:44:05.881597Z",
     "iopub.status.busy": "2021-12-12T19:44:05.881265Z",
     "iopub.status.idle": "2021-12-12T19:44:05.901164Z",
     "shell.execute_reply": "2021-12-12T19:44:05.900454Z",
     "shell.execute_reply.started": "2021-12-12T19:44:05.881563Z"
    }
   },
   "outputs": [
    {
     "name": "stdout",
     "output_type": "stream",
     "text": [
      "<class 'pandas.core.frame.DataFrame'>\n",
      "RangeIndex: 4350 entries, 0 to 4349\n",
      "Data columns (total 11 columns):\n",
      " #   Column          Non-Null Count  Dtype  \n",
      "---  ------          --------------  -----  \n",
      " 0   Brand           4350 non-null   object \n",
      " 1   Model           4350 non-null   object \n",
      " 2   Submodel        4350 non-null   object \n",
      " 3   Tyre Brand      4350 non-null   object \n",
      " 4   Serial No.      4350 non-null   object \n",
      " 5   Type            4350 non-null   object \n",
      " 6   Load Index      4350 non-null   int64  \n",
      " 7   Size            4350 non-null   object \n",
      " 8   Selling Price   4350 non-null   int64  \n",
      " 9   Original Price  4350 non-null   int64  \n",
      " 10  Rating          2248 non-null   float64\n",
      "dtypes: float64(1), int64(3), object(7)\n",
      "memory usage: 374.0+ KB\n"
     ]
    }
   ],
   "source": [
    "df.info()"
   ]
  },
  {
   "cell_type": "code",
   "execution_count": 4,
   "metadata": {
    "execution": {
     "iopub.execute_input": "2021-12-12T19:44:05.938418Z",
     "iopub.status.busy": "2021-12-12T19:44:05.938056Z",
     "iopub.status.idle": "2021-12-12T19:44:05.951094Z",
     "shell.execute_reply": "2021-12-12T19:44:05.950330Z",
     "shell.execute_reply.started": "2021-12-12T19:44:05.938364Z"
    }
   },
   "outputs": [
    {
     "name": "stdout",
     "output_type": "stream",
     "text": [
      "Unique values are:\n",
      " Brand               1\n",
      "Model              34\n",
      "Submodel          178\n",
      "Tyre Brand         16\n",
      "Serial No.        114\n",
      "Type                2\n",
      "Load Index         27\n",
      "Size               47\n",
      "Selling Price     367\n",
      "Original Price    371\n",
      "Rating             22\n",
      "dtype: int64\n"
     ]
    }
   ],
   "source": [
    "print (\"Unique values are:\\n\",df.nunique())"
   ]
  },
  {
   "cell_type": "code",
   "execution_count": 5,
   "metadata": {
    "execution": {
     "iopub.execute_input": "2021-12-12T19:44:05.954127Z",
     "iopub.status.busy": "2021-12-12T19:44:05.953593Z",
     "iopub.status.idle": "2021-12-12T19:44:06.053215Z",
     "shell.execute_reply": "2021-12-12T19:44:06.052266Z",
     "shell.execute_reply.started": "2021-12-12T19:44:05.954095Z"
    }
   },
   "outputs": [
    {
     "data": {
      "image/png": "[encoded data removed]",
      "text/plain": [
       "<Figure size 432x72 with 1 Axes>"
      ]
     },
     "metadata": {
      "needs_background": "light"
     },
     "output_type": "display_data"
    }
   ],
   "source": [
    "colors = [\"#0000FF\",\"#00FF00\",\"#FFFF00\",\"#FF7F00\",\"#FF0000\",\"#4361EE\"]\n",
    "palette = sns.color_palette(palette = colors)\n",
    "\n",
    "sns.palplot(palette, size =1)\n",
    "plt.show()"
   ]
  },
  {
   "cell_type": "markdown",
   "metadata": {},
   "source": [
    "**Demand for Tube or Tubeless tyres**"
   ]
  },
  {
   "cell_type": "code",
   "execution_count": 6,
   "metadata": {
    "execution": {
     "iopub.execute_input": "2021-12-12T19:44:06.055072Z",
     "iopub.status.busy": "2021-12-12T19:44:06.054807Z",
     "iopub.status.idle": "2021-12-12T19:44:06.066098Z",
     "shell.execute_reply": "2021-12-12T19:44:06.065215Z",
     "shell.execute_reply.started": "2021-12-12T19:44:06.055036Z"
    }
   },
   "outputs": [
    {
     "data": {
      "text/plain": [
       "Type\n",
       "Tubeless    4061\n",
       "Tube         289\n",
       "Name: Model, dtype: int64"
      ]
     },
     "execution_count": 6,
     "metadata": {},
     "output_type": "execute_result"
    }
   ],
   "source": [
    "df['Model'].groupby(df['Type']).count().sort_values(ascending=False)"
   ]
  },
  {
   "cell_type": "code",
   "execution_count": 7,
   "metadata": {
    "execution": {
     "iopub.execute_input": "2021-12-12T19:44:06.067680Z",
     "iopub.status.busy": "2021-12-12T19:44:06.067353Z",
     "iopub.status.idle": "2021-12-12T19:44:06.190220Z",
     "shell.execute_reply": "2021-12-12T19:44:06.189564Z",
     "shell.execute_reply.started": "2021-12-12T19:44:06.067640Z"
    }
   },
   "outputs": [
    {
     "data": {
      "image/png": "[encoded data removed]",
      "text/plain": [
       "<Figure size 432x360 with 1 Axes>"
      ]
     },
     "metadata": {},
     "output_type": "display_data"
    }
   ],
   "source": [
    "labels = 'Tubeless', 'Tube'\n",
    "sizes = [4061,289]\n",
    "fig, ax = plt.subplots(figsize=(6, 5))\n",
    "fig.set_facecolor('white')\n",
    "ax.pie(sizes, labels=labels, colors=[\"#0000FF\",\"#00FF00\"],autopct='%1.1f%%',startangle=60,textprops={'color':'black','fontsize':12.5})\n",
    "ax.axis('equal')\n",
    "plt.show()"
   ]
  },
  {
   "cell_type": "markdown",
   "metadata": {},
   "source": [
    "**Major brands in the market**"
   ]
  },
  {
   "cell_type": "code",
   "execution_count": 8,
   "metadata": {
    "execution": {
     "iopub.execute_input": "2021-12-12T19:44:06.191663Z",
     "iopub.status.busy": "2021-12-12T19:44:06.191377Z",
     "iopub.status.idle": "2021-12-12T19:44:06.201237Z",
     "shell.execute_reply": "2021-12-12T19:44:06.200693Z",
     "shell.execute_reply.started": "2021-12-12T19:44:06.191629Z"
    }
   },
   "outputs": [
    {
     "data": {
      "text/plain": [
       "Tyre Brand\n",
       "BridgeStone    610\n",
       "GoodYear       501\n",
       "CEAT           449\n",
       "JKTyre         445\n",
       "Apollo         400\n",
       "Yokohama       379\n",
       "Continental    339\n",
       "Falken         269\n",
       "MRF            263\n",
       "Firestone      171\n",
       "UltraMile      149\n",
       "Michelin       130\n",
       "Pirelli        104\n",
       "Hankook         65\n",
       "Kumho           57\n",
       "Maxxis          19\n",
       "Name: Model, dtype: int64"
      ]
     },
     "execution_count": 8,
     "metadata": {},
     "output_type": "execute_result"
    }
   ],
   "source": [
    "df['Model'].groupby(df['Tyre Brand']).count().sort_values(ascending=False)"
   ]
  },
  {
   "cell_type": "markdown",
   "metadata": {},
   "source": [
    "**Which are the top 10 brands with most tyre models**"
   ]
  },
  {
   "cell_type": "code",
   "execution_count": 9,
   "metadata": {
    "execution": {
     "iopub.execute_input": "2021-12-12T19:44:06.202590Z",
     "iopub.status.busy": "2021-12-12T19:44:06.202181Z",
     "iopub.status.idle": "2021-12-12T19:44:06.549162Z",
     "shell.execute_reply": "2021-12-12T19:44:06.547823Z",
     "shell.execute_reply.started": "2021-12-12T19:44:06.202554Z"
    }
   },
   "outputs": [
    {
     "data": {
      "text/plain": [
       "<AxesSubplot:xlabel='count', ylabel='Tyre Brand'>"
      ]
     },
     "execution_count": 9,
     "metadata": {},
     "output_type": "execute_result"
    },
    {
     "data": {
      "image/png": "[encoded data removed]",
      "text/plain": [
       "<Figure size 720x504 with 1 Axes>"
      ]
     },
     "metadata": {},
     "output_type": "display_data"
    }
   ],
   "source": [
    "sns.set_style('white')\n",
    "plt.figure(figsize=(10,7))\n",
    "sns.countplot(y=\"Tyre Brand\", hue=\"Type\", data=df, palette=[\"#0000FF\",\"#00FF00\"],order=df[\"Tyre Brand\"].value_counts().iloc[:10].index)"
   ]
  },
  {
   "cell_type": "markdown",
   "metadata": {},
   "source": [
    "**Top 5 Models with most tyre brands**"
   ]
  },
  {
   "cell_type": "code",
   "execution_count": 10,
   "metadata": {
    "execution": {
     "iopub.execute_input": "2021-12-12T19:44:06.551301Z",
     "iopub.status.busy": "2021-12-12T19:44:06.550966Z",
     "iopub.status.idle": "2021-12-12T19:44:06.886052Z",
     "shell.execute_reply": "2021-12-12T19:44:06.884460Z",
     "shell.execute_reply.started": "2021-12-12T19:44:06.551256Z"
    }
   },
   "outputs": [
    {
     "data": {
      "text/plain": [
       "<AxesSubplot:xlabel='count', ylabel='Model'>"
      ]
     },
     "execution_count": 10,
     "metadata": {},
     "output_type": "execute_result"
    },
    {
     "data": {
      "image/png": "[encoded data removed]",
      "text/plain": [
       "<Figure size 720x504 with 1 Axes>"
      ]
     },
     "metadata": {},
     "output_type": "display_data"
    }
   ],
   "source": [
    "sns.set_style('white')\n",
    "plt.figure(figsize=(10,7))\n",
    "sns.countplot(y=\"Model\", hue=\"Type\", data=df, palette=[\"#0000FF\",\"#00FF00\"],order=df[\"Model\"].value_counts().iloc[:10].index)"
   ]
  },
  {
   "cell_type": "markdown",
   "metadata": {},
   "source": [
    "**Which Maruti model has the highest number of tyre models/serial no**"
   ]
  },
  {
   "cell_type": "code",
   "execution_count": 11,
   "metadata": {
    "execution": {
     "iopub.execute_input": "2021-12-12T19:44:06.887500Z",
     "iopub.status.busy": "2021-12-12T19:44:06.887217Z",
     "iopub.status.idle": "2021-12-12T19:44:07.335038Z",
     "shell.execute_reply": "2021-12-12T19:44:07.334355Z",
     "shell.execute_reply.started": "2021-12-12T19:44:06.887469Z"
    }
   },
   "outputs": [
    {
     "data": {
      "text/plain": [
       "<AxesSubplot:xlabel='count', ylabel='Model'>"
      ]
     },
     "execution_count": 11,
     "metadata": {},
     "output_type": "execute_result"
    },
    {
     "data": {
      "image/png": "[encoded data removed]",
      "text/plain": [
       "<Figure size 1440x504 with 1 Axes>"
      ]
     },
     "metadata": {},
     "output_type": "display_data"
    }
   ],
   "source": [
    "sns.set_style('white')\n",
    "plt.figure(figsize=(20,7))\n",
    "sns.countplot(y=\"Model\", hue=\"Tyre Brand\", data=df, palette=colors,order=df[\"Model\"].value_counts().iloc[:1].index)"
   ]
  },
  {
   "cell_type": "markdown",
   "metadata": {},
   "source": [
    "**Does expensive tyres have higher ratings**"
   ]
  },
  {
   "cell_type": "code",
   "execution_count": 12,
   "metadata": {
    "execution": {
     "iopub.execute_input": "2021-12-12T19:44:07.336544Z",
     "iopub.status.busy": "2021-12-12T19:44:07.336160Z",
     "iopub.status.idle": "2021-12-12T19:44:07.350263Z",
     "shell.execute_reply": "2021-12-12T19:44:07.349536Z",
     "shell.execute_reply.started": "2021-12-12T19:44:07.336513Z"
    }
   },
   "outputs": [
    {
     "data": {
      "text/plain": [
       "Tyre Brand\n",
       "Firestone      5.0\n",
       "Pirelli        4.9\n",
       "JKTyre         4.5\n",
       "CEAT           4.4\n",
       "GoodYear       4.4\n",
       "Apollo         4.3\n",
       "Falken         4.3\n",
       "BridgeStone    4.2\n",
       "Yokohama       4.2\n",
       "Michelin       4.1\n",
       "MRF            4.0\n",
       "Continental    4.0\n",
       "UltraMile      3.9\n",
       "Hankook        NaN\n",
       "Kumho          NaN\n",
       "Maxxis         NaN\n",
       "Name: Rating, dtype: float64"
      ]
     },
     "execution_count": 12,
     "metadata": {},
     "output_type": "execute_result"
    }
   ],
   "source": [
    "round(df.groupby('Tyre Brand')['Rating'].mean().sort_values(ascending=False),1)"
   ]
  },
  {
   "cell_type": "code",
   "execution_count": 13,
   "metadata": {
    "execution": {
     "iopub.execute_input": "2021-12-12T19:44:07.352504Z",
     "iopub.status.busy": "2021-12-12T19:44:07.351826Z",
     "iopub.status.idle": "2021-12-12T19:44:07.372076Z",
     "shell.execute_reply": "2021-12-12T19:44:07.371190Z",
     "shell.execute_reply.started": "2021-12-12T19:44:07.352472Z"
    }
   },
   "outputs": [
    {
     "data": {
      "text/html": [
       "<div>\n",
       "<style scoped>\n",
       "    .dataframe tbody tr th:only-of-type {\n",
       "        vertical-align: middle;\n",
       "    }\n",
       "\n",
       "    .dataframe tbody tr th {\n",
       "        vertical-align: top;\n",
       "    }\n",
       "\n",
       "    .dataframe thead th {\n",
       "        text-align: right;\n",
       "    }\n",
       "</style>\n",
       "<table border=\"1\" class=\"dataframe\">\n",
       "  <thead>\n",
       "    <tr style=\"text-align: right;\">\n",
       "      <th></th>\n",
       "      <th>Brand</th>\n",
       "      <th>Model</th>\n",
       "      <th>Submodel</th>\n",
       "      <th>Tyre Brand</th>\n",
       "      <th>Serial No.</th>\n",
       "      <th>Type</th>\n",
       "      <th>Load Index</th>\n",
       "      <th>Size</th>\n",
       "      <th>Selling Price</th>\n",
       "      <th>Original Price</th>\n",
       "      <th>Rating</th>\n",
       "    </tr>\n",
       "  </thead>\n",
       "  <tbody>\n",
       "    <tr>\n",
       "      <th>33</th>\n",
       "      <td>Maruti</td>\n",
       "      <td>Swift Dzire</td>\n",
       "      <td>ZDI (Diesel)</td>\n",
       "      <td>Apollo</td>\n",
       "      <td>Amazer 4G Life</td>\n",
       "      <td>Tubeless</td>\n",
       "      <td>88</td>\n",
       "      <td>185/70 R 15</td>\n",
       "      <td>5429</td>\n",
       "      <td>5429</td>\n",
       "      <td>4.0</td>\n",
       "    </tr>\n",
       "    <tr>\n",
       "      <th>34</th>\n",
       "      <td>Maruti</td>\n",
       "      <td>Swift Dzire</td>\n",
       "      <td>ZDI (Diesel)</td>\n",
       "      <td>Apollo</td>\n",
       "      <td>Ainac 4G</td>\n",
       "      <td>Tubeless</td>\n",
       "      <td>88</td>\n",
       "      <td>185/70 R 16</td>\n",
       "      <td>5359</td>\n",
       "      <td>5359</td>\n",
       "      <td>5.0</td>\n",
       "    </tr>\n",
       "    <tr>\n",
       "      <th>42</th>\n",
       "      <td>Maruti</td>\n",
       "      <td>Swift Dzire</td>\n",
       "      <td>ZDI (Diesel)</td>\n",
       "      <td>Apollo</td>\n",
       "      <td>Ainac 4G</td>\n",
       "      <td>Tubeless</td>\n",
       "      <td>88</td>\n",
       "      <td>185/70 R 24</td>\n",
       "      <td>5359</td>\n",
       "      <td>5359</td>\n",
       "      <td>5.0</td>\n",
       "    </tr>\n",
       "    <tr>\n",
       "      <th>43</th>\n",
       "      <td>Maruti</td>\n",
       "      <td>Swift Dzire</td>\n",
       "      <td>ZDI (Diesel)</td>\n",
       "      <td>Apollo</td>\n",
       "      <td>Amazer 4G Life</td>\n",
       "      <td>Tubeless</td>\n",
       "      <td>88</td>\n",
       "      <td>185/70 R 25</td>\n",
       "      <td>5429</td>\n",
       "      <td>5429</td>\n",
       "      <td>4.0</td>\n",
       "    </tr>\n",
       "    <tr>\n",
       "      <th>46</th>\n",
       "      <td>Maruti</td>\n",
       "      <td>Swift Dzire</td>\n",
       "      <td>ZDI (Petrol) New</td>\n",
       "      <td>Apollo</td>\n",
       "      <td>Ainac 4G</td>\n",
       "      <td>Tubeless</td>\n",
       "      <td>88</td>\n",
       "      <td>185/70 R 28</td>\n",
       "      <td>5359</td>\n",
       "      <td>5359</td>\n",
       "      <td>5.0</td>\n",
       "    </tr>\n",
       "  </tbody>\n",
       "</table>\n",
       "</div>"
      ],
      "text/plain": [
       "    Brand         Model          Submodel Tyre Brand      Serial No.  \\\n",
       "33  Maruti  Swift Dzire      ZDI (Diesel)     Apollo  Amazer 4G Life   \n",
       "34  Maruti  Swift Dzire      ZDI (Diesel)     Apollo        Ainac 4G   \n",
       "42  Maruti  Swift Dzire      ZDI (Diesel)     Apollo        Ainac 4G   \n",
       "43  Maruti  Swift Dzire      ZDI (Diesel)     Apollo  Amazer 4G Life   \n",
       "46  Maruti  Swift Dzire  ZDI (Petrol) New     Apollo        Ainac 4G   \n",
       "\n",
       "        Type  Load Index         Size  Selling Price  Original Price  Rating  \n",
       "33  Tubeless          88  185/70 R 15           5429            5429     4.0  \n",
       "34  Tubeless          88  185/70 R 16           5359            5359     5.0  \n",
       "42  Tubeless          88  185/70 R 24           5359            5359     5.0  \n",
       "43  Tubeless          88  185/70 R 25           5429            5429     4.0  \n",
       "46  Tubeless          88  185/70 R 28           5359            5359     5.0  "
      ]
     },
     "execution_count": 13,
     "metadata": {},
     "output_type": "execute_result"
    }
   ],
   "source": [
    "df_p=df[(df[\"Rating\"]>= 4.0) & (df[\"Selling Price\"]>= 5000)]\n",
    "df_p.iloc[:5]"
   ]
  },
  {
   "cell_type": "code",
   "execution_count": 14,
   "metadata": {
    "execution": {
     "iopub.execute_input": "2021-12-12T19:44:07.373643Z",
     "iopub.status.busy": "2021-12-12T19:44:07.373163Z",
     "iopub.status.idle": "2021-12-12T19:44:09.523954Z",
     "shell.execute_reply": "2021-12-12T19:44:09.522961Z",
     "shell.execute_reply.started": "2021-12-12T19:44:07.373610Z"
    }
   },
   "outputs": [
    {
     "data": {
      "image/png": "[encoded data removed]",
      "text/plain": [
       "<Figure size 1080x432 with 1 Axes>"
      ]
     },
     "metadata": {},
     "output_type": "display_data"
    }
   ],
   "source": [
    "fig, ax = plt.subplots(figsize=(15,6))\n",
    "ax = sns.barplot(y='Selling Price', x='Tyre Brand', data=df_p, hue='Rating',palette=colors)"
   ]
  },
  {
   "cell_type": "markdown",
   "metadata": {},
   "source": [
    "**Average Selling Price of tyres by its Brand**"
   ]
  },
  {
   "cell_type": "code",
   "execution_count": 15,
   "metadata": {
    "execution": {
     "iopub.execute_input": "2021-12-12T19:44:09.525443Z",
     "iopub.status.busy": "2021-12-12T19:44:09.525198Z",
     "iopub.status.idle": "2021-12-12T19:44:09.536201Z",
     "shell.execute_reply": "2021-12-12T19:44:09.535247Z",
     "shell.execute_reply.started": "2021-12-12T19:44:09.525406Z"
    }
   },
   "outputs": [
    {
     "data": {
      "text/plain": [
       "Tyre Brand\n",
       "Pirelli        7359.0\n",
       "Michelin       6893.0\n",
       "Maxxis         6232.0\n",
       "Yokohama       6120.0\n",
       "Continental    5250.0\n",
       "BridgeStone    5190.0\n",
       "Falken         5066.0\n",
       "Hankook        4980.0\n",
       "Kumho          4650.0\n",
       "Apollo         4631.0\n",
       "UltraMile      4475.0\n",
       "CEAT           4130.0\n",
       "GoodYear       4011.0\n",
       "MRF            3718.0\n",
       "JKTyre         3602.0\n",
       "Firestone      3484.0\n",
       "Name: Selling Price, dtype: float64"
      ]
     },
     "execution_count": 15,
     "metadata": {},
     "output_type": "execute_result"
    }
   ],
   "source": [
    "df.groupby('Tyre Brand')['Selling Price'].mean().sort_values(ascending=False).apply(np.ceil)"
   ]
  },
  {
   "cell_type": "code",
   "execution_count": 16,
   "metadata": {},
   "outputs": [
    {
     "data": {
      "image/png": "[encoded data removed]",
      "text/plain": [
       "<Figure size 1440x216 with 1 Axes>"
      ]
     },
     "metadata": {},
     "output_type": "display_data"
    }
   ],
   "source": [
    "fig, ax = plt.subplots(figsize=(20,3))\n",
    "ax = sns.boxplot(x=\"Tyre Brand\", y=\"Selling Price\", data=df, palette=colors)"
   ]
  },
  {
   "cell_type": "code",
   "execution_count": 17,
   "metadata": {
    "execution": {
     "iopub.execute_input": "2021-12-12T19:44:09.538020Z",
     "iopub.status.busy": "2021-12-12T19:44:09.537713Z",
     "iopub.status.idle": "2021-12-12T19:44:10.204144Z",
     "shell.execute_reply": "2021-12-12T19:44:10.203307Z",
     "shell.execute_reply.started": "2021-12-12T19:44:09.537988Z"
    }
   },
   "outputs": [
    {
     "data": {
      "image/png": "[encoded data removed]",
      "text/plain": [
       "<Figure size 1440x216 with 1 Axes>"
      ]
     },
     "metadata": {},
     "output_type": "display_data"
    }
   ],
   "source": [
    "fig, ax = plt.subplots(figsize=(20,3))\n",
    "ax = sns.boxplot(x=\"Tyre Brand\", y=\"Original Price\", data=df, palette=colors)"
   ]
  }
 ],
 "metadata": {
  "kernelspec": {
   "display_name": "Python 3",
   "language": "python",
   "name": "python3"
  },
  "language_info": {
   "codemirror_mode": {
    "name": "ipython",
    "version": 3
   },
   "file_extension": ".py",
   "mimetype": "text/x-python",
   "name": "python",
   "nbconvert_exporter": "python",
   "pygments_lexer": "ipython3",
   "version": "3.8.8"
  }
 },
 "nbformat": 4,
 "nbformat_minor": 4
}
